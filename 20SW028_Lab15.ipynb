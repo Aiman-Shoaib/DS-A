{
  "nbformat": 4,
  "nbformat_minor": 0,
  "metadata": {
    "colab": {
      "provenance": []
    },
    "kernelspec": {
      "name": "python3",
      "display_name": "Python 3"
    },
    "language_info": {
      "name": "python"
    }
  },
  "cells": [
    {
      "cell_type": "code",
      "execution_count": 25,
      "metadata": {
        "colab": {
          "base_uri": "https://localhost:8080/"
        },
        "id": "Jb9uG-5k3QHh",
        "outputId": "186dacc8-7c2d-44fb-e9cb-40614fe96fb9"
      },
      "outputs": [
        {
          "output_type": "stream",
          "name": "stdout",
          "text": [
            "   movieId                               title  \\\n",
            "0        1                    Toy Story (1995)   \n",
            "1        2                      Jumanji (1995)   \n",
            "2        3             Grumpier Old Men (1995)   \n",
            "3        4            Waiting to Exhale (1995)   \n",
            "4        5  Father of the Bride Part II (1995)   \n",
            "\n",
            "                                        genres  \n",
            "0  Adventure|Animation|Children|Comedy|Fantasy  \n",
            "1                   Adventure|Children|Fantasy  \n",
            "2                               Comedy|Romance  \n",
            "3                         Comedy|Drama|Romance  \n",
            "4                                       Comedy  \n"
          ]
        }
      ],
      "source": [
        "import numpy as np\n",
        "import pandas as pd\n",
        "from sklearn.feature_extraction.text import TfidfVectorizer\n",
        "from sklearn.metrics.pairwise import linear_kernel\n",
        "from annoy import AnnoyIndex\n",
        "\n",
        "data = pd.read_csv(\"movies.csv\")\n",
        "print(data.head())"
      ]
    },
    {
      "cell_type": "code",
      "source": [
        "# Preprocess the data (optional)\n",
        "data['title'] = data['title'].str.extract('(.+) \\(\\d+\\)')\n",
        "data['genres'] = data['genres'].str.replace('|', ' ')"
      ],
      "metadata": {
        "colab": {
          "base_uri": "https://localhost:8080/"
        },
        "id": "D_YGgJdZ8bV_",
        "outputId": "b7c0c6af-6c23-4b67-c593-2762377f9e57"
      },
      "execution_count": 26,
      "outputs": [
        {
          "output_type": "stream",
          "name": "stderr",
          "text": [
            "<ipython-input-26-b842bd6299d0>:3: FutureWarning: The default value of regex will change from True to False in a future version. In addition, single character regular expressions will *not* be treated as literal strings when regex=True.\n",
            "  data['genres'] = data['genres'].str.replace('|', ' ')\n"
          ]
        }
      ]
    },
    {
      "cell_type": "code",
      "source": [
        "# Use the desired columns\n",
        "data = data[['movieId', 'title', 'genres']]"
      ],
      "metadata": {
        "id": "tXdfOoU28fuf"
      },
      "execution_count": 27,
      "outputs": []
    },
    {
      "cell_type": "code",
      "source": [
        "# Check for and handle missing values (if any)\n",
        "data = data.dropna()"
      ],
      "metadata": {
        "id": "0F3QQev28fzs"
      },
      "execution_count": 28,
      "outputs": []
    },
    {
      "cell_type": "code",
      "source": [
        "# Convert 'genres' column into a list of strings\n",
        "genres_list = data['genres'].tolist()\n",
        "# Create a TF-IDF matrix for movie genres\n",
        "tfidf = TfidfVectorizer(stop_words='english')\n",
        "tfidf_matrix = tfidf.fit_transform(genres_list)"
      ],
      "metadata": {
        "id": "EM_FyXTB8kSY"
      },
      "execution_count": 29,
      "outputs": []
    },
    {
      "cell_type": "code",
      "source": [
        "# Build an Annoy index for efficient similarity calculation\n",
        "num_items, num_features = tfidf_matrix.shape\n",
        "annoy_index = AnnoyIndex(num_features, 'angular')  # Use 'angular' for cosine similarity\n",
        "\n",
        "# Add items to the Annoy index\n",
        "for i in range(num_items):\n",
        "    vector = tfidf_matrix[i].toarray().flatten()\n",
        "    annoy_index.add_item(i, vector)\n",
        "\n",
        "# Build the index\n",
        "annoy_index.build(10)"
      ],
      "metadata": {
        "colab": {
          "base_uri": "https://localhost:8080/"
        },
        "id": "GL75NhyU9Pna",
        "outputId": "f52b5dc9-eafb-42ad-c553-ab73df93b73a"
      },
      "execution_count": 30,
      "outputs": [
        {
          "output_type": "execute_result",
          "data": {
            "text/plain": [
              "True"
            ]
          },
          "metadata": {},
          "execution_count": 30
        }
      ]
    },
    {
      "cell_type": "code",
      "source": [
        "# Function to get movie recommendations\n",
        "def get_recommendations(movie_title):\n",
        "    idx = data[data['title'] == movie_title].index[0]\n",
        "    similar_item_indices = annoy_index.get_nns_by_item(idx, 11)  # Get 11 for top 10 recommendations\n",
        "    similar_movies = data.loc[similar_item_indices, 'title'].tolist()\n",
        "    return similar_movies[1:]"
      ],
      "metadata": {
        "id": "MQGpLU-o9VsX"
      },
      "execution_count": 31,
      "outputs": []
    },
    {
      "cell_type": "code",
      "source": [
        "# Test the movie recommendation system\n",
        "movie_title = 'Adventure'\n",
        "recommended_movies = get_recommendations(movie_title)\n",
        "print(\"Recommended Movies for {}: \\n{}\".format(movie_title, recommended_movies))"
      ],
      "metadata": {
        "colab": {
          "base_uri": "https://localhost:8080/"
        },
        "id": "CT9u-EPr9bMR",
        "outputId": "634f6c07-f23b-4a94-b770-f2a981252f33"
      },
      "execution_count": 32,
      "outputs": [
        {
          "output_type": "stream",
          "name": "stdout",
          "text": [
            "Recommended Movies for Adventure: \n",
            "[\"Kestrel's Eye (Falkens öga)\", 'Trials of Henry Kissinger, The', 'Man of Aran', 'Venus Boyz', 'Tromeo and Juliet', 'Loggerheads', 'Kiss of Death', 'Fay Grim', 'Day of the Outlaw', 'Turtles Are Surprisingly Fast Swimmers (Turtles Swim Faster Than Expected) (Kame wa igai to hayaku oyogu)']\n"
          ]
        }
      ]
    }
  ]
}