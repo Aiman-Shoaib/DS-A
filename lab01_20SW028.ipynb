{
  "nbformat": 4,
  "nbformat_minor": 0,
  "metadata": {
    "colab": {
      "provenance": []
    },
    "kernelspec": {
      "name": "python3",
      "display_name": "Python 3"
    },
    "language_info": {
      "name": "python"
    }
  },
  "cells": [
    {
      "cell_type": "code",
      "execution_count": 1,
      "metadata": {
        "colab": {
          "base_uri": "https://localhost:8080/"
        },
        "id": "AwpmyBHmqerb",
        "outputId": "dda30e94-bf49-4106-fa75-551d286a692b"
      },
      "outputs": [
        {
          "output_type": "stream",
          "name": "stdout",
          "text": [
            "printing hello world\n"
          ]
        }
      ],
      "source": [
        "#task1\n",
        "name='hello'\n",
        "name1='world'\n",
        "print('printing {} {}'.format(name,name1))"
      ]
    },
    {
      "cell_type": "code",
      "source": [
        "#task2\n",
        "string = \"hellO World\"\n",
        "print(string.upper())\n",
        "print(string.lower())\n",
        "print(string.capitalize())\n",
        "print(\",\".join(string_list))\n",
        "print(string.center(30,'$'))\n",
        "\n",
        "string = \"Hello,World\"\n",
        "print(string.split(\",\"))\n",
        "print(string.islower())\n",
        "print(string.isupper())\n",
        "print(string.isalpha())\n",
        "\n",
        "string = \"12345\"\n",
        "print(string.isdigit())\n",
        "\n",
        "\n",
        "\n"
      ],
      "metadata": {
        "colab": {
          "base_uri": "https://localhost:8080/"
        },
        "id": "4d6Jv0_6r2Uq",
        "outputId": "b09253e3-44c3-465b-878e-3f6c5dc152b3"
      },
      "execution_count": 33,
      "outputs": [
        {
          "output_type": "stream",
          "name": "stdout",
          "text": [
            "HELLO WORLD\n",
            "hello world\n",
            "Hello world\n",
            "Hello,World\n",
            "$$$$$$$$$hellO World$$$$$$$$$$\n",
            "['Hello', 'World']\n",
            "False\n",
            "False\n",
            "False\n",
            "True\n"
          ]
        }
      ]
    },
    {
      "cell_type": "code",
      "source": [
        "#task3\n",
        "month = 7\n",
        "days_in_month = [31,28,31,30,31,30,31,31,30,31,30,31]# use list indexing to determine the number of days in month\n",
        "days=days_in_month[month]\n",
        "print(days)\n"
      ],
      "metadata": {
        "colab": {
          "base_uri": "https://localhost:8080/"
        },
        "id": "MVN36aQQtiFd",
        "outputId": "ea5b06cb-cbd9-430c-852d-d08963b94eb8"
      },
      "execution_count": 16,
      "outputs": [
        {
          "output_type": "stream",
          "name": "stdout",
          "text": [
            "31\n"
          ]
        }
      ]
    },
    {
      "cell_type": "code",
      "source": [
        "#task4\n",
        "eclipse_dates = ['June 21, 2001', 'December 4, 2002', 'November 23, 2003',\n",
        "                 'March 29, 2006', 'August 1, 2008', 'July 22, 2009','July 11, 2010',\n",
        "                 'November 13, 2012', 'March 20, 2015','March 9, 2016']\n",
        "eclipse_dates[7:10]\n"
      ],
      "metadata": {
        "colab": {
          "base_uri": "https://localhost:8080/"
        },
        "id": "cjuZEFrXt-KJ",
        "outputId": "47da31c3-0c4a-4e12-e4bd-46dc4e071ea5"
      },
      "execution_count": 18,
      "outputs": [
        {
          "output_type": "execute_result",
          "data": {
            "text/plain": [
              "['November 13, 2012', 'March 20, 2015', 'March 9, 2016']"
            ]
          },
          "metadata": {},
          "execution_count": 18
        }
      ]
    },
    {
      "cell_type": "code",
      "source": [
        "#task5\n",
        "Dict={\"20sw01\":{\"ali\", \"khan\",'2nd year'}, \"20sw02\":{\"saad\", \"alam\",'1st year'}}\n",
        "print(Dict[\"20sw02\"])\n"
      ],
      "metadata": {
        "colab": {
          "base_uri": "https://localhost:8080/"
        },
        "id": "2iBdEIsxujyf",
        "outputId": "ffaa7a27-5e91-4c58-b280-ca91b711a205"
      },
      "execution_count": 31,
      "outputs": [
        {
          "output_type": "stream",
          "name": "stdout",
          "text": [
            "{'saad', 'alam', '1st year'}\n"
          ]
        }
      ]
    }
  ]
}