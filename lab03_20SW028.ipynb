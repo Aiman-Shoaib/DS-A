{
  "nbformat": 4,
  "nbformat_minor": 0,
  "metadata": {
    "colab": {
      "provenance": []
    },
    "kernelspec": {
      "name": "python3",
      "display_name": "Python 3"
    },
    "language_info": {
      "name": "python"
    }
  },
  "cells": [
    {
      "cell_type": "code",
      "execution_count": 2,
      "metadata": {
        "colab": {
          "base_uri": "https://localhost:8080/"
        },
        "id": "beDmzBUi60-l",
        "outputId": "cc7a08f7-a6cd-4fba-91ad-e1331b770cc7"
      },
      "outputs": [
        {
          "output_type": "stream",
          "name": "stdout",
          "text": [
            "expected result: 10, actual result: 10.0\n",
            "expected result: 7123.6902801, actual result: 7123.690280065897\n"
          ]
        }
      ],
      "source": [
        "#task1\n",
        "def population_density(population, land_area):\n",
        "    density = population / land_area\n",
        "    return density\n",
        "\n",
        "# Test cases\n",
        "test1 = population_density(10, 1)\n",
        "expected_result1 = 10\n",
        "print(\"expected result: {}, actual result: {}\".format(expected_result1, test1))\n",
        "test2 = population_density(864816, 121.4)\n",
        "expected_result2 = 7123.6902801\n",
        "print(\"expected result: {}, actual result: {}\".format(expected_result2, test2))"
      ]
    },
    {
      "cell_type": "code",
      "source": [
        "#task2\n",
        "def readable_timedelta(days):\n",
        "    weeks = days // 7\n",
        "    remaining_days = days % 7\n",
        "    return f\"{weeks} week(s) and {remaining_days} day(s)\"\n",
        "\n",
        "# Test the function\n",
        "print(readable_timedelta(10))"
      ],
      "metadata": {
        "colab": {
          "base_uri": "https://localhost:8080/"
        },
        "id": "6o0nIqXM8BVN",
        "outputId": "8ab33cd5-f248-408d-b952-41d2d92bbe13"
      },
      "execution_count": 3,
      "outputs": [
        {
          "output_type": "stream",
          "name": "stdout",
          "text": [
            "1 week(s) and 3 day(s)\n"
          ]
        }
      ]
    },
    {
      "cell_type": "code",
      "source": [
        "#task3\n",
        "numbers = [[34, 63, 88, 71, 29],[90, 78, 51, 27, 45],\n",
        " [63, 37, 85, 46, 22],[51, 22, 34, 11, 18]]\n",
        "averages = list(map(lambda num_list: sum(num_list) / len(num_list), numbers))\n",
        "print(averages)"
      ],
      "metadata": {
        "colab": {
          "base_uri": "https://localhost:8080/"
        },
        "id": "wAtgRV9Q8aZZ",
        "outputId": "8ed17d6f-defd-43f8-b8f2-9a9e4183f80c"
      },
      "execution_count": 4,
      "outputs": [
        {
          "output_type": "stream",
          "name": "stdout",
          "text": [
            "[57.0, 58.2, 50.6, 27.2]\n"
          ]
        }
      ]
    },
    {
      "cell_type": "code",
      "source": [
        "#task4\n",
        "cities = [\"New York City\", \"Los Angeles\", \"Chicago\", \"Mountain View\", \"Denver\", \"Boston\"]\n",
        "short_cities = list(filter(lambda name: len(name) < 10, cities))\n",
        "print(short_cities)"
      ],
      "metadata": {
        "colab": {
          "base_uri": "https://localhost:8080/"
        },
        "id": "ov53b4I29Dyv",
        "outputId": "f2da2842-391f-4ab9-8c42-a5bd11914083"
      },
      "execution_count": 5,
      "outputs": [
        {
          "output_type": "stream",
          "name": "stdout",
          "text": [
            "['Chicago', 'Denver', 'Boston']\n"
          ]
        }
      ]
    },
    {
      "cell_type": "code",
      "source": [
        "#task5\n",
        "# Step 1: Get user input for names, missing assignments, and grades\n",
        "names = input(\"Enter a list of student names separated by commas: \").split(',')\n",
        "assignments = input(\"Enter a list of missing assignment counts separated by commas: \").split(',')\n",
        "grades = input(\"Enter a list of grades separated by commas: \").split(',')\n",
        "\n",
        "# Step 2: Loop through the data and print the messages for each student\n",
        "for name, assignment_count, grade in zip(names, assignments, grades):\n",
        "    assignment_count = int(assignment_count)\n",
        "    grade = float(grade)\n",
        "    potential_grade = grade + 2 * assignment_count\n",
        "\n",
        "    message = f\"Hi {name},\\n\"\n",
        "    message += f\"This is a reminder that you have {assignment_count} assignments left to submit before you can graduate. \"\n",
        "    message += f\"Your current grade is {grade} and can increase to {potential_grade} if you submit all assignments before the due date.\\n\"\n",
        "\n",
        "    print(message)\n"
      ],
      "metadata": {
        "colab": {
          "base_uri": "https://localhost:8080/"
        },
        "id": "Ci39gf579rEh",
        "outputId": "81936bd8-d591-4913-e84c-6cb28f0ea9f6"
      },
      "execution_count": 3,
      "outputs": [
        {
          "output_type": "stream",
          "name": "stdout",
          "text": [
            "Enter a list of student names separated by commas: Ali, Ahmed, Saad\n",
            "Enter a list of missing assignment counts separated by commas: 1,2,2\n",
            "Enter a list of grades separated by commas: 78.9,81.3,90.1\n",
            "Hi Ali,\n",
            "This is a reminder that you have 1 assignments left to submit before you can graduate. Your current grade is 78.9 and can increase to 80.9 if you submit all assignments before the due date.\n",
            "\n",
            "Hi  Ahmed,\n",
            "This is a reminder that you have 2 assignments left to submit before you can graduate. Your current grade is 81.3 and can increase to 85.3 if you submit all assignments before the due date.\n",
            "\n",
            "Hi  Saad,\n",
            "This is a reminder that you have 2 assignments left to submit before you can graduate. Your current grade is 90.1 and can increase to 94.1 if you submit all assignments before the due date.\n",
            "\n"
          ]
        }
      ]
    },
    {
      "cell_type": "code",
      "source": [
        "#task6\n",
        "with open(\"camelot.txt\") as song:\n",
        "    print(song.read(5))  # Reads the first 2 characters\n",
        "    print(song.read(12))  # Reads the next 8 characters\n",
        "    print(song.read())   # Reads the remaining content of the file"
      ],
      "metadata": {
        "colab": {
          "base_uri": "https://localhost:8080/"
        },
        "id": "N5BhgRb_C7kv",
        "outputId": "cfab5540-3974-459a-f58f-e0913afc91eb"
      },
      "execution_count": 17,
      "outputs": [
        {
          "output_type": "stream",
          "name": "stdout",
          "text": [
            "We're\n",
            " the knights\n",
            " of the round table\n",
            "We dance whenever we're able\n",
            "\n"
          ]
        }
      ]
    },
    {
      "cell_type": "code",
      "source": [
        "#task6 method2\n",
        "camelot_lines = []\n",
        "\n",
        "with open(\"camelot.txt\") as f:\n",
        "    for line in f:\n",
        "        camelot_lines.append(line.strip())\n",
        "\n",
        "print(camelot_lines)\n"
      ],
      "metadata": {
        "colab": {
          "base_uri": "https://localhost:8080/"
        },
        "id": "kglmGVM1HweU",
        "outputId": "6715b200-e7ac-4931-ab32-2ef8f6fa1833"
      },
      "execution_count": 18,
      "outputs": [
        {
          "output_type": "stream",
          "name": "stdout",
          "text": [
            "[\"We're the knights of the round table\", \"We dance whenever we're able\"]\n"
          ]
        }
      ]
    },
    {
      "cell_type": "code",
      "source": [
        "#task7\n",
        "def create_cast_list(filename):\n",
        "    cast_list = []\n",
        "    with open(filename, 'r') as file:\n",
        "        for line in file:\n",
        "            actor_name = line.split(',')[0].strip()\n",
        "            cast_list.append(actor_name)\n",
        "    return cast_list\n",
        "\n",
        "cast_list = create_cast_list('flying_circus_cast.txt')\n",
        "for actor in cast_list:\n",
        "    print(actor)\n"
      ],
      "metadata": {
        "colab": {
          "base_uri": "https://localhost:8080/"
        },
        "id": "xbsAIOOzDrrD",
        "outputId": "ae37ce24-7728-4151-8871-4ce512dfa90b"
      },
      "execution_count": 7,
      "outputs": [
        {
          "output_type": "stream",
          "name": "stdout",
          "text": [
            "Graham Chapman\n",
            "Eric Idle\n",
            "Terry Jones\n",
            "Michael Palin\n",
            "Terry Gilliam\n",
            "John Cleese\n",
            "Carol Cleveland\n",
            "Ian Davidson\n",
            "John Hughman\n",
            "The Fred Tomlinson Singers\n",
            "Connie Booth\n",
            "Bob Raymond\n",
            "Lyn Ashley\n",
            "Rita Davies\n",
            "Stanley Mason\n",
            "David Ballantyne\n",
            "Donna Reading\n",
            "Peter Brett\n",
            "Maureen Flanagan\n",
            "Katya Wyeth\n",
            "Frank Lester\n",
            "Neil Innes\n",
            "Dick Vosburgh\n",
            "Sandra Richards\n",
            "Julia Breck\n",
            "Nicki Howorth\n",
            "Jimmy Hill\n",
            "Barry Cryer\n",
            "Jeannette Wild\n",
            "Marjorie Wilde\n",
            "Marie Anderson\n",
            "Caron Gardner\n",
            "Nosher Powell\n",
            "Carolae Donoghue\n",
            "Vincent Wong\n",
            "Helena Clayton\n",
            "Nigel Jones\n",
            "Roy Gunson\n",
            "Daphne Davey\n",
            "Stenson Falke\n",
            "Alexander Curry\n",
            "Frank Williams\n",
            "Ralph Wood\n",
            "Rosalind Bailey\n",
            "Marion Mould\n",
            "Sheila Sands\n",
            "Richard Baker\n",
            "Douglas Adams\n",
            "Ewa Aulin\n",
            "Reginald Bosanquet\n",
            "Barbara Lindley\n",
            "Roy Brent\n",
            "Jonas Card\n",
            "Tony Christopher\n",
            "Beulah Hughes\n",
            "Peter Kodak\n",
            "Lulu\n",
            "Jay Neill\n",
            "Graham Skidmore\n",
            "Ringo Starr\n",
            "Fred Tomlinson\n",
            "David Hamilton\n",
            "Suzy Mandel\n",
            "Peter Woods\n"
          ]
        }
      ]
    }
  ]
}