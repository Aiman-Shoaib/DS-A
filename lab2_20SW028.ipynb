{
  "nbformat": 4,
  "nbformat_minor": 0,
  "metadata": {
    "colab": {
      "provenance": []
    },
    "kernelspec": {
      "name": "python3",
      "display_name": "Python 3"
    },
    "language_info": {
      "name": "python"
    }
  },
  "cells": [
    {
      "cell_type": "code",
      "execution_count": 3,
      "metadata": {
        "colab": {
          "base_uri": "https://localhost:8080/"
        },
        "id": "xax5SMVFkTKG",
        "outputId": "c637caff-f2ad-475e-e276-483819e2211b"
      },
      "outputs": [
        {
          "output_type": "stream",
          "name": "stdout",
          "text": [
            "Congratulations! You won prizebond.\n"
          ]
        }
      ],
      "source": [
        "#Task:01\n",
        "points = 174  # use this input to make your submission\n",
        "\n",
        "# write your if statement here\n",
        "if 1 <= points <= 50:\n",
        "    result = \"Congratulations! You won a plushie prize.\"\n",
        "elif 51 <= points <= 150:\n",
        "    result = \"Congratulations! You got no prize.\"\n",
        "elif 151 <= points <= 180:\n",
        "    result = \"Congratulations! You won prizebond.\"\n",
        "elif 181 <= points <= 200:\n",
        "    result = \"Congratulations! You won a penguin.\"\n",
        "else:\n",
        "    result = \"oops!, no prize this time.\"\n",
        "\n",
        "print(result)"
      ]
    },
    {
      "cell_type": "code",
      "source": [
        "#Task:02\n",
        "answer = 174 # Provide the answer here\n",
        "guess = 200 # Provide the guess here\n",
        "\n",
        "if guess < answer:\n",
        "    result = \"Oops! Your guess was too low.\"\n",
        "elif guess > answer:\n",
        "    result = \"Oops! Your guess was too high.\"\n",
        "else:\n",
        "    result = \"Nice! Your guess matched the answer!\"\n",
        "\n",
        "print(result)"
      ],
      "metadata": {
        "colab": {
          "base_uri": "https://localhost:8080/"
        },
        "id": "Y1zXoGO_mfwm",
        "outputId": "86453ede-823d-41bd-9abb-151109b9fe71"
      },
      "execution_count": 6,
      "outputs": [
        {
          "output_type": "stream",
          "name": "stdout",
          "text": [
            "Oops! Your guess was too high.\n"
          ]
        }
      ]
    },
    {
      "cell_type": "code",
      "source": [
        "#Task:03\n",
        "def calculate_tax(purchase_amount, state):\n",
        "    tax_rates = {\n",
        "        'CA': 0.075,\n",
        "        'MN': 0.095,\n",
        "        'NY': 0.089}\n",
        "\n",
        "    if state in tax_rates:\n",
        "        tax_rate = tax_rates[state]\n",
        "        tax_amount = purchase_amount * tax_rate\n",
        "        total_amount = purchase_amount + tax_amount\n",
        "        return total_amount\n",
        "    else:\n",
        "        print(\"State not found in the tax rates.\")\n",
        "        return None\n",
        "purchase_amount = float(input(\"Enter the purchase amount: \"))\n",
        "state = input(\"Enter the state (CA, MN, or NY): \")\n",
        "\n",
        "purchase_amount = 100\n",
        "state = 'MN'\n",
        "total_amount_with_tax = calculate_tax(purchase_amount, state)\n",
        "print(f\"Total amount with tax in {state}: ${total_amount_with_tax:.2f}\")"
      ],
      "metadata": {
        "colab": {
          "base_uri": "https://localhost:8080/"
        },
        "id": "JwgqACAXmyMN",
        "outputId": "72db5839-f8d4-4cf3-9f5e-dda440b506dd"
      },
      "execution_count": 11,
      "outputs": [
        {
          "output_type": "stream",
          "name": "stdout",
          "text": [
            "Enter the purchase amount: 250\n",
            "Enter the state (CA, MN, or NY): CA\n",
            "Total amount with tax in MN: $109.50\n"
          ]
        }
      ]
    },
    {
      "cell_type": "code",
      "source": [
        "#Task:04\n",
        "my_list = [\"the\",\"quick\", \"brown\" , \"fox\", \"jumped\",\"over\", \"the\" , \"lazy\" , \"dog\"]\n",
        "\n",
        "for element in my_list:\n",
        "    print(element)"
      ],
      "metadata": {
        "colab": {
          "base_uri": "https://localhost:8080/"
        },
        "id": "PNOyvYNcoF5N",
        "outputId": "1a50baff-c770-4f88-eefb-38b607065432"
      },
      "execution_count": 12,
      "outputs": [
        {
          "output_type": "stream",
          "name": "stdout",
          "text": [
            "the\n",
            "quick\n",
            "brown\n",
            "fox\n",
            "jumped\n",
            "over\n",
            "the\n",
            "lazy\n",
            "dog\n"
          ]
        }
      ]
    },
    {
      "cell_type": "code",
      "source": [
        "#task5\n",
        "for x in range (5,31):\n",
        "  if x%5==0:\n",
        "    print(x)"
      ],
      "metadata": {
        "colab": {
          "base_uri": "https://localhost:8080/"
        },
        "id": "X3254NtZoTvt",
        "outputId": "1597c0c4-6267-4f3b-c170-1961ea48e0e2"
      },
      "execution_count": 20,
      "outputs": [
        {
          "output_type": "stream",
          "name": "stdout",
          "text": [
            "5\n",
            "10\n",
            "15\n",
            "20\n",
            "25\n",
            "30\n"
          ]
        }
      ]
    },
    {
      "cell_type": "code",
      "source": [
        "#Task:06\n",
        "names = [\"Rick Sanchez\", \"Morty Smith\", \"Summer Smith\", \"Jerry Smith\", \"Beth Smith\"]\n",
        "# Using list comprehension to extract first names in lowercase\n",
        "first_names = [name.split()[0].lower() for name in names]\n",
        "\n",
        "print(first_names)"
      ],
      "metadata": {
        "colab": {
          "base_uri": "https://localhost:8080/"
        },
        "id": "pkJGWlvEpfEt",
        "outputId": "abc9e957-d154-48a7-b976-59c5c4ccfda4"
      },
      "execution_count": 21,
      "outputs": [
        {
          "output_type": "stream",
          "name": "stdout",
          "text": [
            "['rick', 'morty', 'summer', 'jerry', 'beth']\n"
          ]
        }
      ]
    },
    {
      "cell_type": "code",
      "source": [
        "#task 7\n",
        "multiples_3 = [num * 3 for num in range(1, 21)]\n",
        "print(multiples_3)"
      ],
      "metadata": {
        "colab": {
          "base_uri": "https://localhost:8080/"
        },
        "id": "f-sBrVdqqMx2",
        "outputId": "ae27b09d-8027-48a4-b8ab-3ab47687fe19"
      },
      "execution_count": 27,
      "outputs": [
        {
          "output_type": "stream",
          "name": "stdout",
          "text": [
            "[3, 6, 9, 12, 15, 18, 21, 24, 27, 30, 33, 36, 39, 42, 45, 48, 51, 54, 57, 60]\n"
          ]
        }
      ]
    },
    {
      "cell_type": "code",
      "source": [
        "#task 8\n",
        "#Task:08\n",
        "scores = {\n",
        "    \"Rick Sanchez\": 70,\n",
        "    \"Morty Smith\": 35,\n",
        "    \"Summer Smith\": 82,\n",
        "    \"Jerry Smith\": 23,\n",
        "    \"Beth Smith\": 98\n",
        "}\n",
        "\n",
        "passed = [x for x in scores if scores[x] >= 65]\n",
        "print(passed)"
      ],
      "metadata": {
        "colab": {
          "base_uri": "https://localhost:8080/"
        },
        "id": "rT6syaCQq4Qy",
        "outputId": "02dc9da9-f1d3-49f1-d5ba-64e9226c92ee"
      },
      "execution_count": 28,
      "outputs": [
        {
          "output_type": "stream",
          "name": "stdout",
          "text": [
            "['Rick Sanchez', 'Summer Smith', 'Beth Smith']\n"
          ]
        }
      ]
    },
    {
      "cell_type": "code",
      "source": [
        "#Task:09\n",
        "cast_names = [\"Barney\", \"Robin\", \"Ted\", \"Lily\", \"Marshall\"]\n",
        "cast_heights = [72, 68, 72, 66, 76]\n",
        "\n",
        "cast = dict(zip(cast_names, cast_heights))\n",
        "print(cast)"
      ],
      "metadata": {
        "colab": {
          "base_uri": "https://localhost:8080/"
        },
        "id": "6BKnQsMXrUq_",
        "outputId": "34793a37-7a87-4e84-8e59-eafe484308db"
      },
      "execution_count": 29,
      "outputs": [
        {
          "output_type": "stream",
          "name": "stdout",
          "text": [
            "{'Barney': 72, 'Robin': 68, 'Ted': 72, 'Lily': 66, 'Marshall': 76}\n"
          ]
        }
      ]
    },
    {
      "cell_type": "code",
      "source": [
        "#Task:10\n",
        "cast = [\"Barney Stinson\", \"Robin Scherbatsky\", \"Ted Mosby\", \"Lily Aldrin\", \"Marshall Eriksen\"]\n",
        "heights = [72, 68, 72, 66, 76]\n",
        "\n",
        "for i, x in enumerate(cast):\n",
        "    cast[i] = x + \" \" + str(heights[i])\n",
        "\n",
        "print(cast)"
      ],
      "metadata": {
        "colab": {
          "base_uri": "https://localhost:8080/"
        },
        "id": "fmBlsTVGrdZP",
        "outputId": "5b6e3052-56ae-48a9-c3b2-f609194e91ad"
      },
      "execution_count": 30,
      "outputs": [
        {
          "output_type": "stream",
          "name": "stdout",
          "text": [
            "['Barney Stinson 72', 'Robin Scherbatsky 68', 'Ted Mosby 72', 'Lily Aldrin 66', 'Marshall Eriksen 76']\n"
          ]
        }
      ]
    }
  ]
}